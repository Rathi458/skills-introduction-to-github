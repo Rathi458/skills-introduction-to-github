{
  "cells": [
    {
      "cell_type": "markdown",
      "metadata": {
        "id": "view-in-github",
        "colab_type": "text"
      },
      "source": [
        "<a href=\"https://colab.research.google.com/github/Rathi458/skills-introduction-to-github/blob/main/Main_project.ipynb\" target=\"_parent\"><img src=\"https://colab.research.google.com/assets/colab-badge.svg\" alt=\"Open In Colab\"/></a>"
      ]
    },
    {
      "cell_type": "code",
      "execution_count": 1,
      "id": "ee43025c-f721-4618-88d1-846d7ca9e3b2",
      "metadata": {
        "id": "ee43025c-f721-4618-88d1-846d7ca9e3b2"
      },
      "outputs": [],
      "source": [
        "from car_rent import car_rental,customer"
      ]
    },
    {
      "cell_type": "code",
      "execution_count": 2,
      "id": "f39b723a-933a-490e-8009-db0f47ed19b8",
      "metadata": {
        "colab": {
          "base_uri": "https://localhost:8080/"
        },
        "id": "f39b723a-933a-490e-8009-db0f47ed19b8",
        "outputId": "2067c36f-9ffb-46f3-c645-55efbebd7d10"
      },
      "outputs": [
        {
          "output_type": "stream",
          "name": "stdout",
          "text": [
            "\n",
            "        ====== Car Rental Shop ======\n",
            "        1. Display available cars\n",
            "        2. Rent car on hourly basis ($1000/hr)\n",
            "        3. Rent car on daily basis ($5000/day)\n",
            "        4. Rent car on weekly basis ($15000/week)\n",
            "        5. Return car\n",
            "        6. Exit\n",
            "        \n",
            "Enter your choice: 1\n",
            "the no.of car available for rent are 2000\n",
            "\n",
            "        ====== Car Rental Shop ======\n",
            "        1. Display available cars\n",
            "        2. Rent car on hourly basis ($1000/hr)\n",
            "        3. Rent car on daily basis ($5000/day)\n",
            "        4. Rent car on weekly basis ($15000/week)\n",
            "        5. Return car\n",
            "        6. Exit\n",
            "        \n",
            "Enter your choice: 2\n",
            "how many cars do you want to rent?678\n",
            "Rented 678 on hourly basis at now 2025-04-06 18:01:40.900068\n",
            "\n",
            "        ====== Car Rental Shop ======\n",
            "        1. Display available cars\n",
            "        2. Rent car on hourly basis ($1000/hr)\n",
            "        3. Rent car on daily basis ($5000/day)\n",
            "        4. Rent car on weekly basis ($15000/week)\n",
            "        5. Return car\n",
            "        6. Exit\n",
            "        \n",
            "Enter your choice: 5\n",
            "1184\n",
            "Thanks for returning the car(s). Your total bill is: $1184\n",
            "\n",
            "        ====== Car Rental Shop ======\n",
            "        1. Display available cars\n",
            "        2. Rent car on hourly basis ($1000/hr)\n",
            "        3. Rent car on daily basis ($5000/day)\n",
            "        4. Rent car on weekly basis ($15000/week)\n",
            "        5. Return car\n",
            "        6. Exit\n",
            "        \n",
            "Enter your choice: 3\n",
            "how many cars do you want to rent?445\n",
            "Rented 445 on daily basis at now 2025-04-06 18:02:01.114765\n",
            "\n",
            "        ====== Car Rental Shop ======\n",
            "        1. Display available cars\n",
            "        2. Rent car on hourly basis ($1000/hr)\n",
            "        3. Rent car on daily basis ($5000/day)\n",
            "        4. Rent car on weekly basis ($15000/week)\n",
            "        5. Return car\n",
            "        6. Exit\n",
            "        \n",
            "Enter your choice: 5\n",
            "Thanks for returning the car(s). Your total bill is: $115\n",
            "\n",
            "        ====== Car Rental Shop ======\n",
            "        1. Display available cars\n",
            "        2. Rent car on hourly basis ($1000/hr)\n",
            "        3. Rent car on daily basis ($5000/day)\n",
            "        4. Rent car on weekly basis ($15000/week)\n",
            "        5. Return car\n",
            "        6. Exit\n",
            "        \n",
            "Enter your choice: 6\n",
            "Thank you for using the car rental service!\n"
          ]
        }
      ],
      "source": [
        "def main():\n",
        "    shop = car_rental(2000)  # Instantiate the rental shop with 2000 cars\n",
        "    cust = customer()      # Create a customer object\n",
        "\n",
        "    while True:\n",
        "        print(\"\"\"\n",
        "        ====== Car Rental Shop ======\n",
        "        1. Display available cars\n",
        "        2. Rent car on hourly basis ($1000/hr)\n",
        "        3. Rent car on daily basis ($5000/day)\n",
        "        4. Rent car on weekly basis ($15000/week)\n",
        "        5. Return car\n",
        "        6. Exit\n",
        "        \"\"\")\n",
        "        try:\n",
        "            choice = int(input(\"Enter your choice: \"))\n",
        "        except ValueError:\n",
        "            print(\"Invalid input. Please enter a number.\")\n",
        "            continue\n",
        "\n",
        "        if choice == 1:\n",
        "            shop.display()\n",
        "\n",
        "        elif choice in [2, 3, 4]:\n",
        "            no_of_cars = cust.request_car()\n",
        "            if no_of_cars == -1:\n",
        "                continue\n",
        "\n",
        "            if choice == 2:\n",
        "                rented_time = shop.rent_hourly(no_of_cars)\n",
        "                rent_basis = 1\n",
        "            elif choice == 3:\n",
        "                rented_time = shop.rent_daily(no_of_cars)\n",
        "                rent_basis = 2\n",
        "            elif choice == 4:\n",
        "                rented_time = shop.rent_weekly(no_of_cars)\n",
        "                rent_basis = 3\n",
        "\n",
        "            if rented_time:\n",
        "                cust.rented_time = rented_time\n",
        "                cust.rented_basis = rent_basis\n",
        "                cust.no_of_cars = no_of_cars\n",
        "\n",
        "        elif choice == 5:\n",
        "            bill = shop.return_car(cust.return_car())\n",
        "            if bill is not None:\n",
        "                cust.rented_time = None\n",
        "                cust.rented_basis = 0\n",
        "                cust.no_of_cars = 0\n",
        "\n",
        "        elif choice == 6:\n",
        "            print(\"Thank you for using the car rental service!\")\n",
        "            break\n",
        "        else:\n",
        "            print(\"Invalid input. Please try again.\")\n",
        "\n",
        "# Run the main function only if this file is executed directly\n",
        "if __name__ == \"__main__\":\n",
        "    main()\n"
      ]
    },
    {
      "cell_type": "code",
      "execution_count": 2,
      "id": "2d33ca7e-4466-4b64-a4d4-8efe2cd80149",
      "metadata": {
        "id": "2d33ca7e-4466-4b64-a4d4-8efe2cd80149"
      },
      "outputs": [],
      "source": []
    }
  ],
  "metadata": {
    "kernelspec": {
      "display_name": "Python 3 (ipykernel)",
      "language": "python",
      "name": "python3"
    },
    "language_info": {
      "codemirror_mode": {
        "name": "ipython",
        "version": 3
      },
      "file_extension": ".py",
      "mimetype": "text/x-python",
      "name": "python",
      "nbconvert_exporter": "python",
      "pygments_lexer": "ipython3",
      "version": "3.10.9"
    },
    "colab": {
      "provenance": [],
      "include_colab_link": true
    }
  },
  "nbformat": 4,
  "nbformat_minor": 5
}